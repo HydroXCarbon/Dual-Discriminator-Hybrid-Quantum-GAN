{
 "cells": [
  {
   "cell_type": "code",
   "execution_count": null,
   "id": "9400f845-2c17-4e7b-b572-07bf2578e775",
   "metadata": {},
   "outputs": [],
   "source": [
    "import qiskit\n",
    "qiskit.__version__"
   ]
  },
  {
   "cell_type": "code",
   "execution_count": null,
   "id": "ae7b4631",
   "metadata": {},
   "outputs": [],
   "source": [
    "import os\n",
    "from qiskit_ibm_runtime import QiskitRuntimeService\n",
    "from dotenv import load_dotenv \n",
    "\n",
    "load_dotenv() "
   ]
  },
  {
   "cell_type": "code",
   "execution_count": 5,
   "id": "cdbabcf2-88a5-4911-88d8-025ab17f1e3c",
   "metadata": {},
   "outputs": [],
   "source": [
    "# Connect to the IBM Quantum Runtime service using the API token\n",
    "\n",
    "service = QiskitRuntimeService(channel='ibm_quantum', token=os.getenv(\"IBM_API_TOKEN\"))"
   ]
  },
  {
   "cell_type": "code",
   "execution_count": 5,
   "id": "924d8f5c",
   "metadata": {},
   "outputs": [],
   "source": [
    "# Save the account information to the service\n",
    "\n",
    "QiskitRuntimeService.save_account(channel='ibm_quantum', token=os.getenv(\"IBM_API_TOKEN\"))"
   ]
  },
  {
   "cell_type": "code",
   "execution_count": null,
   "id": "c91fe1d8",
   "metadata": {},
   "outputs": [],
   "source": [
    "# Check the account information\n",
    "QiskitRuntimeService.saved_accounts()"
   ]
  },
  {
   "cell_type": "code",
   "execution_count": 4,
   "id": "e4678f33",
   "metadata": {},
   "outputs": [
    {
     "data": {
      "text/plain": [
       "True"
      ]
     },
     "execution_count": 4,
     "metadata": {},
     "output_type": "execute_result"
    }
   ],
   "source": [
    "# Delete the account information\n",
    "\n",
    "name = 'your_account_name'\n",
    "QiskitRuntimeService.delete_account(name=name)"
   ]
  },
  {
   "cell_type": "code",
   "execution_count": 20,
   "id": "5ef38b4b",
   "metadata": {},
   "outputs": [],
   "source": [
    "# Get the backend\n",
    "\n",
    "backend_name = 'ibm_brisbane'\n",
    "backend = service.backend(name=backend_name)"
   ]
  },
  {
   "cell_type": "code",
   "execution_count": 21,
   "id": "1b1149a2",
   "metadata": {},
   "outputs": [
    {
     "data": {
      "text/plain": [
       "127"
      ]
     },
     "execution_count": 21,
     "metadata": {},
     "output_type": "execute_result"
    }
   ],
   "source": [
    "# Check the number of qubits\n",
    "\n",
    "backend.num_qubits"
   ]
  }
 ],
 "metadata": {
  "kernelspec": {
   "display_name": "Python 3",
   "language": "python",
   "name": "python3"
  },
  "language_info": {
   "codemirror_mode": {
    "name": "ipython",
    "version": 3
   },
   "file_extension": ".py",
   "mimetype": "text/x-python",
   "name": "python",
   "nbconvert_exporter": "python",
   "pygments_lexer": "ipython3",
   "version": "3.12.4"
  }
 },
 "nbformat": 4,
 "nbformat_minor": 5
}
