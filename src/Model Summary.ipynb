{
 "cells": [
  {
   "cell_type": "code",
   "execution_count": 4,
   "metadata": {},
   "outputs": [],
   "source": [
    "from torchsummary import summary\n",
    "import torch\n",
    "from models import *\n"
   ]
  },
  {
   "cell_type": "code",
   "execution_count": 12,
   "metadata": {},
   "outputs": [
    {
     "name": "stdout",
     "output_type": "stream",
     "text": [
      "----------------------------------------------------------------\n",
      "        Layer (type)               Output Shape         Param #\n",
      "================================================================\n",
      "           Flatten-1                  [-1, 784]               0\n",
      "            Linear-2                  [-1, 512]         401,920\n",
      "              ReLU-3                  [-1, 512]               0\n",
      "           Dropout-4                  [-1, 512]               0\n",
      "            Linear-5                  [-1, 256]         131,328\n",
      "              ReLU-6                  [-1, 256]               0\n",
      "           Dropout-7                  [-1, 256]               0\n",
      "            Linear-8                    [-1, 1]             257\n",
      "           Sigmoid-9                    [-1, 1]               0\n",
      "================================================================\n",
      "Total params: 533,505\n",
      "Trainable params: 533,505\n",
      "Non-trainable params: 0\n",
      "----------------------------------------------------------------\n",
      "Input size (MB): 0.00\n",
      "Forward/backward pass size (MB): 0.02\n",
      "Params size (MB): 2.04\n",
      "Estimated Total Size (MB): 2.06\n",
      "----------------------------------------------------------------\n"
     ]
    }
   ],
   "source": [
    "# Create the model instance\n",
    "model = FCL_Classical_Discriminator_2()\n",
    "\n",
    "# Check if CUDA (GPU) is available and move the model to the appropriate device\n",
    "device = torch.device(\"cuda\" if torch.cuda.is_available() else \"cpu\")\n",
    "model = model.to(device)\n",
    "\n",
    "# Create a dummy input tensor on the same device as the model\n",
    "dummy_input = torch.randn(1, 784).to(device)\n",
    "\n",
    "# Show the summary\n",
    "summary(model, input_size=(1, 784))\n"
   ]
  },
  {
   "cell_type": "code",
   "execution_count": 18,
   "metadata": {},
   "outputs": [
    {
     "name": "stdout",
     "output_type": "stream",
     "text": [
      "----------------------------------------------------------------\n",
      "        Layer (type)               Output Shape         Param #\n",
      "================================================================\n",
      "            Linear-1                  [-1, 256]          25,856\n",
      "              ReLU-2                  [-1, 256]               0\n",
      "            Linear-3                  [-1, 512]         131,584\n",
      "              ReLU-4                  [-1, 512]               0\n",
      "            Linear-5                 [-1, 1024]         525,312\n",
      "              ReLU-6                 [-1, 1024]               0\n",
      "            Linear-7                  [-1, 784]         803,600\n",
      "              Tanh-8                  [-1, 784]               0\n",
      "================================================================\n",
      "Total params: 1,486,352\n",
      "Trainable params: 1,486,352\n",
      "Non-trainable params: 0\n",
      "----------------------------------------------------------------\n",
      "Input size (MB): 0.00\n",
      "Forward/backward pass size (MB): 0.04\n",
      "Params size (MB): 5.67\n",
      "Estimated Total Size (MB): 5.71\n",
      "----------------------------------------------------------------\n"
     ]
    }
   ],
   "source": [
    "# Create the model instance\n",
    "model = GAN_Generator()\n",
    "\n",
    "# Check if CUDA (GPU) is available and move the model to the appropriate device\n",
    "device = torch.device(\"cuda\" if torch.cuda.is_available() else \"cpu\")\n",
    "model = model.to(device)\n",
    "\n",
    "# Create a dummy input tensor on the same device as the model\n",
    "# For example, the latent vector could be of size 100 (you should adjust this to match your model's expected input size)\n",
    "dummy_input = torch.randn(1, 100).to(device)  # Adjust the latent dimension size as necessary\n",
    "\n",
    "# Show the summary\n",
    "summary(model, input_size=(100,))  # Adjust input size to match latent vector\n"
   ]
  },
  {
   "cell_type": "code",
   "execution_count": 17,
   "metadata": {},
   "outputs": [
    {
     "name": "stdout",
     "output_type": "stream",
     "text": [
      "----------------------------------------------------------------\n",
      "        Layer (type)               Output Shape         Param #\n",
      "================================================================\n",
      "            Conv2d-1            [-1, 2, 24, 24]              52\n",
      "              ReLU-2            [-1, 2, 24, 24]               0\n",
      "         MaxPool2d-3            [-1, 2, 12, 12]               0\n",
      "            Conv2d-4             [-1, 16, 8, 8]             816\n",
      "              ReLU-5             [-1, 16, 8, 8]               0\n",
      "         MaxPool2d-6             [-1, 16, 4, 4]               0\n",
      "         Dropout2d-7             [-1, 16, 4, 4]               0\n",
      "           Flatten-8                  [-1, 256]               0\n",
      "            Linear-9                   [-1, 64]          16,448\n",
      "             ReLU-10                   [-1, 64]               0\n",
      "           Linear-11                    [-1, 2]             130\n",
      "   TorchConnector-12                    [-1, 1]               4\n",
      "           Linear-13                    [-1, 1]               2\n",
      "          Sigmoid-14                    [-1, 1]               0\n",
      "================================================================\n",
      "Total params: 17,452\n",
      "Trainable params: 17,452\n",
      "Non-trainable params: 0\n",
      "----------------------------------------------------------------\n",
      "Input size (MB): 0.00\n",
      "Forward/backward pass size (MB): 0.04\n",
      "Params size (MB): 0.07\n",
      "Estimated Total Size (MB): 0.11\n",
      "----------------------------------------------------------------\n"
     ]
    }
   ],
   "source": [
    "# Create the model instance\n",
    "model = HybridQuantumDiscriminator()\n",
    "\n",
    "# Check if CUDA (GPU) is available and move the model to the appropriate device\n",
    "device = torch.device(\"cuda\" if torch.cuda.is_available() else \"cpu\")\n",
    "model = model.to(device)\n",
    "\n",
    "# Create a dummy input tensor on the same device as the model\n",
    "# Adjust the latent vector size (e.g., 100) and reshape for convolutional layers\n",
    "dummy_input = torch.randn(1, 1, 28, 28).to(device)  # Example: batch_size=1, 1 channel, 10x10 size\n",
    "\n",
    "# Show the summary\n",
    "summary(model, input_size=(1, 28, 28))  # Adjust input size as necessary for your model's expected input"
   ]
  }
 ],
 "metadata": {
  "kernelspec": {
   "display_name": "HQGAN",
   "language": "python",
   "name": "python3"
  },
  "language_info": {
   "codemirror_mode": {
    "name": "ipython",
    "version": 3
   },
   "file_extension": ".py",
   "mimetype": "text/x-python",
   "name": "python",
   "nbconvert_exporter": "python",
   "pygments_lexer": "ipython3",
   "version": "3.12.4"
  }
 },
 "nbformat": 4,
 "nbformat_minor": 2
}
