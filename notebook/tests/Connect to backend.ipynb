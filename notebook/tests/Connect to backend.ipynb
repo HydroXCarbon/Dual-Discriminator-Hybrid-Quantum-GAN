{
 "cells": [
  {
   "cell_type": "code",
   "execution_count": 2,
   "id": "9400f845-2c17-4e7b-b572-07bf2578e775",
   "metadata": {},
   "outputs": [],
   "source": [
    "import qiskit"
   ]
  },
  {
   "cell_type": "code",
   "execution_count": 3,
   "id": "2be31b86-067c-4e3e-819e-c8b988db32d6",
   "metadata": {},
   "outputs": [
    {
     "data": {
      "text/plain": [
       "'1.1.0'"
      ]
     },
     "execution_count": 3,
     "metadata": {},
     "output_type": "execute_result"
    }
   ],
   "source": [
    "qiskit.__version__"
   ]
  },
  {
   "cell_type": "code",
   "execution_count": null,
   "id": "ae7b4631",
   "metadata": {},
   "outputs": [],
   "source": [
    "import os\n",
    "from dotenv import load_dotenv, dotenv_values \n",
    "\n",
    "load_dotenv() "
   ]
  },
  {
   "cell_type": "code",
   "execution_count": 5,
   "id": "cdbabcf2-88a5-4911-88d8-025ab17f1e3c",
   "metadata": {},
   "outputs": [],
   "source": [
    "from qiskit_ibm_runtime import QiskitRuntimeService\n",
    "\n",
    "service = QiskitRuntimeService(channel='ibm_quantum', token=os.getenv(\"IBM_API_TOKEN\"))"
   ]
  },
  {
   "cell_type": "code",
   "execution_count": 15,
   "id": "924d8f5c",
   "metadata": {},
   "outputs": [],
   "source": [
    "QiskitRuntimeService.save_account(channel='ibm_quantum', token=os.getenv(\"IBM_API_TOKEN\"))"
   ]
  },
  {
   "cell_type": "code",
   "execution_count": 20,
   "id": "5ef38b4b",
   "metadata": {},
   "outputs": [],
   "source": [
    "backend = service.backend(name = 'ibm_brisbane')"
   ]
  },
  {
   "cell_type": "code",
   "execution_count": 21,
   "id": "1b1149a2",
   "metadata": {},
   "outputs": [
    {
     "data": {
      "text/plain": [
       "127"
      ]
     },
     "execution_count": 21,
     "metadata": {},
     "output_type": "execute_result"
    }
   ],
   "source": [
    "backend.num_qubits"
   ]
  }
 ],
 "metadata": {
  "kernelspec": {
   "display_name": "Python 3",
   "language": "python",
   "name": "python3"
  },
  "language_info": {
   "codemirror_mode": {
    "name": "ipython",
    "version": 3
   },
   "file_extension": ".py",
   "mimetype": "text/x-python",
   "name": "python",
   "nbconvert_exporter": "python",
   "pygments_lexer": "ipython3",
   "version": "3.1.-1"
  }
 },
 "nbformat": 4,
 "nbformat_minor": 5
}
