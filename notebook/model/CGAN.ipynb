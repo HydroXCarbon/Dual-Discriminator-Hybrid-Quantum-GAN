{
 "cells": [
  {
   "cell_type": "markdown",
   "metadata": {},
   "source": [
    "## Basic Classical Generative Adversarial Networks \n",
    "Reference: https://realpython.com/generative-adversarial-networks/#discriminative-vs-generative-models\n",
    "\n",
    "<img src=\"../../assets/Classical%20GAN.png\" width=\"auto\" height=\"500\" alt=\"Alt text\">"
   ]
  },
  {
   "cell_type": "code",
   "execution_count": 12,
   "metadata": {},
   "outputs": [],
   "source": [
    "import torch\n",
    "from torch import nn\n",
    "\n",
    "import math\n",
    "import matplotlib.pyplot as plt"
   ]
  },
  {
   "cell_type": "code",
   "execution_count": 13,
   "metadata": {},
   "outputs": [
    {
     "data": {
      "text/plain": [
       "<torch._C.Generator at 0x7fc09f300370>"
      ]
     },
     "execution_count": 13,
     "metadata": {},
     "output_type": "execute_result"
    }
   ],
   "source": [
    "# Set the seed for reproducibility\n",
    "torch.manual_seed(111)"
   ]
  },
  {
   "cell_type": "markdown",
   "metadata": {},
   "source": [
    "# Prepare data"
   ]
  },
  {
   "cell_type": "code",
   "execution_count": 14,
   "metadata": {},
   "outputs": [],
   "source": [
    "import torch\n",
    "from torch import nn\n",
    "\n",
    "import math\n",
    "import matplotlib.pyplot as plt"
   ]
  },
  {
   "cell_type": "code",
   "execution_count": 15,
   "metadata": {},
   "outputs": [
    {
     "data": {
      "text/plain": [
       "[<matplotlib.lines.Line2D at 0x7fbfafa737d0>]"
      ]
     },
     "execution_count": 15,
     "metadata": {},
     "output_type": "execute_result"
    },
    {
     "data": {
      "image/png": "[encoded data removed]",
      "text/plain": [
       "<Figure size 640x480 with 1 Axes>"
      ]
     },
     "metadata": {},
     "output_type": "display_data"
    }
   ],
   "source": [
    "# Prepare the data\n",
    "train_data_length = 1024\n",
    "train_data = torch.zeros((train_data_length, 2))\n",
    "train_data[:, 0] = 2 * math.pi * torch.rand(train_data_length)\n",
    "train_data[:, 1] = torch.sin(train_data[:, 0])\n",
    "train_labels = torch.zeros(train_data_length)\n",
    "train_set = [\n",
    "    (train_data[i], train_labels[i]) for i in range(train_data_length)\n",
    "]\n",
    "plt.plot(train_data[:, 0], train_data[:, 1], \".\")"
   ]
  },
  {
   "cell_type": "code",
   "execution_count": 16,
   "metadata": {},
   "outputs": [],
   "source": [
    "# Create train loader\n",
    "batch_size = 32\n",
    "train_loader = torch.utils.data.DataLoader(\n",
    "    train_set, batch_size=batch_size, shuffle=True\n",
    ")"
   ]
  },
  {
   "cell_type": "markdown",
   "metadata": {},
   "source": [
    "# Create discriminator and generator"
   ]
  },
  {
   "cell_type": "code",
   "execution_count": 17,
   "metadata": {},
   "outputs": [],
   "source": [
    "class Discriminator(nn.Module):\n",
    "    def __init__(self):\n",
    "        super().__init__()\n",
    "        self.model = nn.Sequential(\n",
    "            nn.Linear(2, 256),\n",
    "            nn.ReLU(),\n",
    "            nn.Dropout(0.3),\n",
    "            nn.Linear(256, 128),\n",
    "            nn.ReLU(),\n",
    "            nn.Dropout(0.3),\n",
    "            nn.Linear(128, 64),\n",
    "            nn.ReLU(),\n",
    "            nn.Dropout(0.3),\n",
    "            nn.Linear(64, 1),\n",
    "            nn.Sigmoid(),\n",
    "        )\n",
    "\n",
    "    def forward(self, x):\n",
    "        output = self.model(x)\n",
    "        return output\n",
    "    \n",
    "discriminator = Discriminator()"
   ]
  },
  {
   "cell_type": "code",
   "execution_count": 18,
   "metadata": {},
   "outputs": [],
   "source": [
    "class Generator(nn.Module):\n",
    "    def __init__(self):\n",
    "        super().__init__()\n",
    "        self.model = nn.Sequential(\n",
    "            nn.Linear(2, 16),\n",
    "            nn.ReLU(),\n",
    "            nn.Linear(16, 32),\n",
    "            nn.ReLU(),\n",
    "            nn.Linear(32, 2),\n",
    "        )\n",
    "\n",
    "    def forward(self, x):\n",
    "        output = self.model(x)\n",
    "        return output\n",
    "\n",
    "generator = Generator()"
   ]
  },
  {
   "cell_type": "markdown",
   "metadata": {},
   "source": [
    "# Training module"
   ]
  },
  {
   "cell_type": "code",
   "execution_count": 19,
   "metadata": {},
   "outputs": [],
   "source": [
    "# Set up\n",
    "lr = 0.001\n",
    "num_epochs = 300\n",
    "loss_function = nn.BCELoss()"
   ]
  },
  {
   "cell_type": "code",
   "execution_count": 20,
   "metadata": {},
   "outputs": [],
   "source": [
    "optimizer_discriminator = torch.optim.Adam(discriminator.parameters(), lr=lr)\n",
    "optimizer_generator = torch.optim.Adam(generator.parameters(), lr=lr)"
   ]
  },
  {
   "cell_type": "code",
   "execution_count": 21,
   "metadata": {},
   "outputs": [
    {
     "name": "stdout",
     "output_type": "stream",
     "text": [
      "Epoch: 0 Loss D.: 0.21308740973472595\n",
      "Epoch: 0 Loss G.: 1.7989581823349\n",
      "Epoch: 10 Loss D.: 0.6099680662155151\n",
      "Epoch: 10 Loss G.: 0.9077385067939758\n",
      "Epoch: 20 Loss D.: 0.6200631260871887\n",
      "Epoch: 20 Loss G.: 0.953209638595581\n",
      "Epoch: 30 Loss D.: 0.611523449420929\n",
      "Epoch: 30 Loss G.: 0.9587339758872986\n",
      "Epoch: 40 Loss D.: 0.6862791776657104\n",
      "Epoch: 40 Loss G.: 1.0068551301956177\n",
      "Epoch: 50 Loss D.: 0.6572889089584351\n",
      "Epoch: 50 Loss G.: 0.7889376282691956\n",
      "Epoch: 60 Loss D.: 0.6758030652999878\n",
      "Epoch: 60 Loss G.: 0.8458390235900879\n",
      "Epoch: 70 Loss D.: 0.71137535572052\n",
      "Epoch: 70 Loss G.: 0.6257340312004089\n",
      "Epoch: 80 Loss D.: 0.6752761602401733\n",
      "Epoch: 80 Loss G.: 0.7071601152420044\n",
      "Epoch: 90 Loss D.: 0.6999450325965881\n",
      "Epoch: 90 Loss G.: 0.7189481258392334\n",
      "Epoch: 100 Loss D.: 0.6843206882476807\n",
      "Epoch: 100 Loss G.: 0.7307493090629578\n",
      "Epoch: 110 Loss D.: 0.6279256939888\n",
      "Epoch: 110 Loss G.: 1.0432333946228027\n",
      "Epoch: 120 Loss D.: 0.6868332028388977\n",
      "Epoch: 120 Loss G.: 0.7289265990257263\n",
      "Epoch: 130 Loss D.: 0.6381211280822754\n",
      "Epoch: 130 Loss G.: 0.8905510306358337\n",
      "Epoch: 140 Loss D.: 0.7312371134757996\n",
      "Epoch: 140 Loss G.: 0.6269011497497559\n",
      "Epoch: 150 Loss D.: 0.5188108682632446\n",
      "Epoch: 150 Loss G.: 1.1202231645584106\n",
      "Epoch: 160 Loss D.: 0.6678273677825928\n",
      "Epoch: 160 Loss G.: 0.8664741516113281\n",
      "Epoch: 170 Loss D.: 0.6615575551986694\n",
      "Epoch: 170 Loss G.: 0.8372094631195068\n",
      "Epoch: 180 Loss D.: 0.6992079615592957\n",
      "Epoch: 180 Loss G.: 0.7537042498588562\n",
      "Epoch: 190 Loss D.: 0.7621324062347412\n",
      "Epoch: 190 Loss G.: 0.6722754240036011\n",
      "Epoch: 200 Loss D.: 0.6923474669456482\n",
      "Epoch: 200 Loss G.: 0.8245605826377869\n",
      "Epoch: 210 Loss D.: 0.6388393640518188\n",
      "Epoch: 210 Loss G.: 1.0109379291534424\n",
      "Epoch: 220 Loss D.: 0.6335641145706177\n",
      "Epoch: 220 Loss G.: 0.759418249130249\n",
      "Epoch: 230 Loss D.: 0.7122102379798889\n",
      "Epoch: 230 Loss G.: 0.7134917974472046\n",
      "Epoch: 240 Loss D.: 0.6440855264663696\n",
      "Epoch: 240 Loss G.: 0.7780449986457825\n",
      "Epoch: 250 Loss D.: 0.5826181769371033\n",
      "Epoch: 250 Loss G.: 1.0203709602355957\n",
      "Epoch: 260 Loss D.: 0.5738652944564819\n",
      "Epoch: 260 Loss G.: 1.3434618711471558\n",
      "Epoch: 270 Loss D.: 0.6357291340827942\n",
      "Epoch: 270 Loss G.: 0.7416417598724365\n",
      "Epoch: 280 Loss D.: 0.5998061895370483\n",
      "Epoch: 280 Loss G.: 0.9526732563972473\n",
      "Epoch: 290 Loss D.: 0.6343247890472412\n",
      "Epoch: 290 Loss G.: 0.8644299507141113\n"
     ]
    }
   ],
   "source": [
    "for epoch in range(num_epochs):\n",
    "    for n, (real_samples, _) in enumerate(train_loader):\n",
    "        # Data for training the discriminator\n",
    "        real_samples_labels = torch.ones((batch_size, 1))\n",
    "        latent_space_samples = torch.randn((batch_size, 2))\n",
    "        generated_samples = generator(latent_space_samples)\n",
    "        generated_samples_labels = torch.zeros((batch_size, 1))\n",
    "        all_samples = torch.cat((real_samples, generated_samples))\n",
    "        all_samples_labels = torch.cat(\n",
    "            (real_samples_labels, generated_samples_labels)\n",
    "        )\n",
    "\n",
    "        # Training the discriminator\n",
    "        discriminator.zero_grad()\n",
    "        output_discriminator = discriminator(all_samples)\n",
    "        loss_discriminator = loss_function(\n",
    "            output_discriminator, all_samples_labels)\n",
    "        loss_discriminator.backward()\n",
    "        optimizer_discriminator.step()\n",
    "\n",
    "        # Data for training the generator\n",
    "        latent_space_samples = torch.randn((batch_size, 2))\n",
    "\n",
    "        # Training the generator\n",
    "        generator.zero_grad()\n",
    "        generated_samples = generator(latent_space_samples)\n",
    "        output_discriminator_generated = discriminator(generated_samples)\n",
    "        loss_generator = loss_function(\n",
    "            output_discriminator_generated, real_samples_labels\n",
    "        )\n",
    "        loss_generator.backward()\n",
    "        optimizer_generator.step()\n",
    "\n",
    "        # Show loss\n",
    "        if epoch % 10 == 0 and n == batch_size - 1:\n",
    "            print(f\"Epoch: {epoch} Loss D.: {loss_discriminator}\")\n",
    "            print(f\"Epoch: {epoch} Loss G.: {loss_generator}\")"
   ]
  },
  {
   "cell_type": "markdown",
   "metadata": {},
   "source": [
    "# Post processing and plotting"
   ]
  },
  {
   "cell_type": "code",
   "execution_count": 22,
   "metadata": {},
   "outputs": [
    {
     "data": {
      "text/plain": [
       "[<matplotlib.lines.Line2D at 0x7fbfa470b020>]"
      ]
     },
     "execution_count": 22,
     "metadata": {},
     "output_type": "execute_result"
    },
    {
     "data": {
      "image/png": "[encoded data removed]",
      "text/plain": [
       "<Figure size 640x480 with 1 Axes>"
      ]
     },
     "metadata": {},
     "output_type": "display_data"
    }
   ],
   "source": [
    "latent_space_samples = torch.randn(100, 2)\n",
    "generated_samples = generator(latent_space_samples)\n",
    "generated_samples = generated_samples.detach()\n",
    "plt.plot(generated_samples[:, 0], generated_samples[:, 1], \".\")"
   ]
  }
 ],
 "metadata": {
  "kernelspec": {
   "display_name": "Python 3",
   "language": "python",
   "name": "python3"
  },
  "language_info": {
   "codemirror_mode": {
    "name": "ipython",
    "version": 3
   },
   "file_extension": ".py",
   "mimetype": "text/x-python",
   "name": "python",
   "nbconvert_exporter": "python",
   "pygments_lexer": "ipython3",
   "version": "3.12.4"
  }
 },
 "nbformat": 4,
 "nbformat_minor": 2
}
